{
 "cells": [
  {
   "cell_type": "code",
   "execution_count": 1,
   "metadata": {},
   "outputs": [],
   "source": [
    "%matplotlib inline\n",
    "import pandas as pd #for datasets management\n",
    "from scipy.stats import pearsonr\n",
    "import seaborn as sns\n",
    "import matplotlib.pyplot as plt"
   ]
  },
  {
   "cell_type": "code",
   "execution_count": 16,
   "metadata": {},
   "outputs": [
    {
     "data": {
      "text/html": [
       "<div>\n",
       "<style scoped>\n",
       "    .dataframe tbody tr th:only-of-type {\n",
       "        vertical-align: middle;\n",
       "    }\n",
       "\n",
       "    .dataframe tbody tr th {\n",
       "        vertical-align: top;\n",
       "    }\n",
       "\n",
       "    .dataframe thead th {\n",
       "        text-align: right;\n",
       "    }\n",
       "</style>\n",
       "<table border=\"1\" class=\"dataframe\">\n",
       "  <thead>\n",
       "    <tr style=\"text-align: right;\">\n",
       "      <th></th>\n",
       "      <th>ID</th>\n",
       "      <th>NIT</th>\n",
       "      <th>RAZON_SOCIAL</th>\n",
       "      <th>SUPERVISOR</th>\n",
       "      <th>REGION</th>\n",
       "      <th>DPTO</th>\n",
       "      <th>CIUDAD</th>\n",
       "      <th>CIIU</th>\n",
       "      <th>MACROSECTOR</th>\n",
       "      <th>INGRESOS_OPERACIONALES_2018</th>\n",
       "      <th>...</th>\n",
       "      <th>ACTIVOS_2018</th>\n",
       "      <th>PASIVOS_2018</th>\n",
       "      <th>PATRIMONIO_2018</th>\n",
       "      <th>INGRESOS_OPERACIONALES_2017</th>\n",
       "      <th>GANANCIA_2017</th>\n",
       "      <th>ACTIVOS_2017</th>\n",
       "      <th>PASIVOS_2017</th>\n",
       "      <th>PATRIMONIO_2017</th>\n",
       "      <th>NIIF</th>\n",
       "      <th>Unnamed: 20</th>\n",
       "    </tr>\n",
       "  </thead>\n",
       "  <tbody>\n",
       "    <tr>\n",
       "      <th>0</th>\n",
       "      <td>1</td>\n",
       "      <td>899999068</td>\n",
       "      <td>ECOPETROL S.A</td>\n",
       "      <td>SUPERFINANCIERA</td>\n",
       "      <td>Bogotá - Cundinamarca</td>\n",
       "      <td>BOGOTA D.C.</td>\n",
       "      <td>BOGOTA-D.C.-BOGOTA D.C.</td>\n",
       "      <td>B0610 - Extracción de petróleo crudo</td>\n",
       "      <td>MINERO-HIDROCARBUROS</td>\n",
       "      <td>62579849000</td>\n",
       "      <td>...</td>\n",
       "      <td>1.137618e+11</td>\n",
       "      <td>5.654822e+10</td>\n",
       "      <td>5.721361e+10</td>\n",
       "      <td>4.968708e+10</td>\n",
       "      <td>6.620412e+09</td>\n",
       "      <td>1.075490e+11</td>\n",
       "      <td>5.965040e+10</td>\n",
       "      <td>4.789863e+10</td>\n",
       "      <td>NIIF PLENAS-GRUPO 1</td>\n",
       "      <td>NaN</td>\n",
       "    </tr>\n",
       "    <tr>\n",
       "      <th>1</th>\n",
       "      <td>2</td>\n",
       "      <td>830095213</td>\n",
       "      <td>ORGANIZACIÓN TERPEL S.A.</td>\n",
       "      <td>SUPERFINANCIERA</td>\n",
       "      <td>Bogotá - Cundinamarca</td>\n",
       "      <td>BOGOTA D.C.</td>\n",
       "      <td>BOGOTA-D.C.-BOGOTA D.C.</td>\n",
       "      <td>G4661 - Comercio al por mayor de combustibles ...</td>\n",
       "      <td>COMERCIO</td>\n",
       "      <td>14879440281</td>\n",
       "      <td>...</td>\n",
       "      <td>5.488096e+09</td>\n",
       "      <td>3.525498e+09</td>\n",
       "      <td>1.962597e+09</td>\n",
       "      <td>1.249326e+10</td>\n",
       "      <td>1.952812e+08</td>\n",
       "      <td>3.863475e+09</td>\n",
       "      <td>2.186212e+09</td>\n",
       "      <td>1.677263e+09</td>\n",
       "      <td>NIIF PLENAS-GRUPO 1</td>\n",
       "      <td>NaN</td>\n",
       "    </tr>\n",
       "    <tr>\n",
       "      <th>2</th>\n",
       "      <td>3</td>\n",
       "      <td>900112515</td>\n",
       "      <td>REFINERIA DE CARTAGENA S.A.S.</td>\n",
       "      <td>SUPERSOCIEDADES</td>\n",
       "      <td>Costa Atlántica</td>\n",
       "      <td>BOLIVAR</td>\n",
       "      <td>CARTAGENA-BOLIVAR</td>\n",
       "      <td>C1921 - Fabricación de productos de la refinac...</td>\n",
       "      <td>MANUFACTURA</td>\n",
       "      <td>12919431000</td>\n",
       "      <td>...</td>\n",
       "      <td>2.788179e+10</td>\n",
       "      <td>9.121544e+09</td>\n",
       "      <td>1.876025e+10</td>\n",
       "      <td>9.150339e+09</td>\n",
       "      <td>4.809466e+07</td>\n",
       "      <td>2.677963e+10</td>\n",
       "      <td>8.612363e+09</td>\n",
       "      <td>1.816726e+10</td>\n",
       "      <td>NIIF PLENAS-GRUPO 1</td>\n",
       "      <td>NaN</td>\n",
       "    </tr>\n",
       "    <tr>\n",
       "      <th>3</th>\n",
       "      <td>4</td>\n",
       "      <td>890900608</td>\n",
       "      <td>ALMACENES EXITO S A</td>\n",
       "      <td>SUPERFINANCIERA</td>\n",
       "      <td>Antioquia</td>\n",
       "      <td>ANTIOQUIA</td>\n",
       "      <td>ENVIGADO-ANTIOQUIA</td>\n",
       "      <td>G4711 - Comercio al por menor en establecimien...</td>\n",
       "      <td>COMERCIO</td>\n",
       "      <td>11444486000</td>\n",
       "      <td>...</td>\n",
       "      <td>1.566335e+10</td>\n",
       "      <td>8.013609e+09</td>\n",
       "      <td>7.649740e+09</td>\n",
       "      <td>1.125092e+10</td>\n",
       "      <td>2.177130e+08</td>\n",
       "      <td>1.596270e+10</td>\n",
       "      <td>8.123134e+09</td>\n",
       "      <td>7.839568e+09</td>\n",
       "      <td>NIIF PLENAS-GRUPO 1</td>\n",
       "      <td>NaN</td>\n",
       "    </tr>\n",
       "    <tr>\n",
       "      <th>4</th>\n",
       "      <td>5</td>\n",
       "      <td>890904996</td>\n",
       "      <td>EMPRESAS PÚBLICAS DE MEDELLÍN ESP</td>\n",
       "      <td>SUPERSERVICIOS</td>\n",
       "      <td>Antioquia</td>\n",
       "      <td>ANTIOQUIA</td>\n",
       "      <td>MEDELLIN-ANTIOQUIA</td>\n",
       "      <td>D3513- Dsitribución de energía electrica</td>\n",
       "      <td>SERVICIOS</td>\n",
       "      <td>8966811000</td>\n",
       "      <td>...</td>\n",
       "      <td>4.559554e+10</td>\n",
       "      <td>2.299022e+10</td>\n",
       "      <td>2.260532e+10</td>\n",
       "      <td>7.927149e+09</td>\n",
       "      <td>2.188189e+09</td>\n",
       "      <td>3.958096e+10</td>\n",
       "      <td>1.808298e+10</td>\n",
       "      <td>2.149798e+10</td>\n",
       "      <td>NIIF PLENAS-GRUPO 1</td>\n",
       "      <td>NaN</td>\n",
       "    </tr>\n",
       "  </tbody>\n",
       "</table>\n",
       "<p>5 rows × 21 columns</p>\n",
       "</div>"
      ],
      "text/plain": [
       "   ID        NIT                       RAZON_SOCIAL       SUPERVISOR  \\\n",
       "0   1  899999068                      ECOPETROL S.A  SUPERFINANCIERA   \n",
       "1   2  830095213           ORGANIZACIÓN TERPEL S.A.  SUPERFINANCIERA   \n",
       "2   3  900112515      REFINERIA DE CARTAGENA S.A.S.  SUPERSOCIEDADES   \n",
       "3   4  890900608                ALMACENES EXITO S A  SUPERFINANCIERA   \n",
       "4   5  890904996  EMPRESAS PÚBLICAS DE MEDELLÍN ESP   SUPERSERVICIOS   \n",
       "\n",
       "                  REGION         DPTO                   CIUDAD  \\\n",
       "0  Bogotá - Cundinamarca  BOGOTA D.C.  BOGOTA-D.C.-BOGOTA D.C.   \n",
       "1  Bogotá - Cundinamarca  BOGOTA D.C.  BOGOTA-D.C.-BOGOTA D.C.   \n",
       "2        Costa Atlántica      BOLIVAR        CARTAGENA-BOLIVAR   \n",
       "3              Antioquia    ANTIOQUIA       ENVIGADO-ANTIOQUIA   \n",
       "4              Antioquia    ANTIOQUIA       MEDELLIN-ANTIOQUIA   \n",
       "\n",
       "                                                CIIU           MACROSECTOR  \\\n",
       "0               B0610 - Extracción de petróleo crudo  MINERO-HIDROCARBUROS   \n",
       "1  G4661 - Comercio al por mayor de combustibles ...              COMERCIO   \n",
       "2  C1921 - Fabricación de productos de la refinac...           MANUFACTURA   \n",
       "3  G4711 - Comercio al por menor en establecimien...              COMERCIO   \n",
       "4           D3513- Dsitribución de energía electrica             SERVICIOS   \n",
       "\n",
       "  INGRESOS_OPERACIONALES_2018  ...  ACTIVOS_2018  PASIVOS_2018  \\\n",
       "0                 62579849000  ...  1.137618e+11  5.654822e+10   \n",
       "1                 14879440281  ...  5.488096e+09  3.525498e+09   \n",
       "2                 12919431000  ...  2.788179e+10  9.121544e+09   \n",
       "3                 11444486000  ...  1.566335e+10  8.013609e+09   \n",
       "4                  8966811000  ...  4.559554e+10  2.299022e+10   \n",
       "\n",
       "   PATRIMONIO_2018  INGRESOS_OPERACIONALES_2017  GANANCIA_2017  ACTIVOS_2017  \\\n",
       "0     5.721361e+10                 4.968708e+10   6.620412e+09  1.075490e+11   \n",
       "1     1.962597e+09                 1.249326e+10   1.952812e+08  3.863475e+09   \n",
       "2     1.876025e+10                 9.150339e+09   4.809466e+07  2.677963e+10   \n",
       "3     7.649740e+09                 1.125092e+10   2.177130e+08  1.596270e+10   \n",
       "4     2.260532e+10                 7.927149e+09   2.188189e+09  3.958096e+10   \n",
       "\n",
       "   PASIVOS_2017  PATRIMONIO_2017                 NIIF Unnamed: 20  \n",
       "0  5.965040e+10     4.789863e+10  NIIF PLENAS-GRUPO 1         NaN  \n",
       "1  2.186212e+09     1.677263e+09  NIIF PLENAS-GRUPO 1         NaN  \n",
       "2  8.612363e+09     1.816726e+10  NIIF PLENAS-GRUPO 1         NaN  \n",
       "3  8.123134e+09     7.839568e+09  NIIF PLENAS-GRUPO 1         NaN  \n",
       "4  1.808298e+10     2.149798e+10  NIIF PLENAS-GRUPO 1         NaN  \n",
       "\n",
       "[5 rows x 21 columns]"
      ]
     },
     "execution_count": 16,
     "metadata": {},
     "output_type": "execute_result"
    }
   ],
   "source": [
    "#el archivo debe estar en la misma dirección que el tester\n",
    "db_original = 'EMPRESAS_MAS_GRANDES_DEL_PAIS.csv'\n",
    "db = pd.read_csv(db_original)\n",
    "db.head()"
   ]
  },
  {
   "cell_type": "code",
   "execution_count": null,
   "metadata": {},
   "outputs": [],
   "source": [
    "print(db.dtypes) #tipos de datos en cada una de las columnas\n",
    "print(db.shape) #cantidad de filas y columnas"
   ]
  },
  {
   "cell_type": "code",
   "execution_count": 14,
   "metadata": {},
   "outputs": [
    {
     "data": {
      "text/plain": [
       "ID                               0\n",
       "NIT                              0\n",
       "RAZON_SOCIAL                     0\n",
       "SUPERVISOR                       0\n",
       "REGION                           0\n",
       "DPTO                             0\n",
       "CIUDAD                           0\n",
       "CIIU                             0\n",
       "MACROSECTOR                      0\n",
       "INGRESOS_OPERACIONALES_2018      0\n",
       "GANANCIA_2018                    0\n",
       "ACTIVOS_2018                     0\n",
       "PASIVOS_2018                     0\n",
       "PATRIMONIO_2018                  0\n",
       "INGRESOS_OPERACIONALES_2017      0\n",
       "GANANCIA_2017                    0\n",
       "ACTIVOS_2017                     0\n",
       "PASIVOS_2017                     0\n",
       "PATRIMONIO_2017                  0\n",
       "NIIF                             0\n",
       "Unnamed: 20                    979\n",
       "dtype: int64"
      ]
     },
     "execution_count": 14,
     "metadata": {},
     "output_type": "execute_result"
    }
   ],
   "source": [
    "pd.isnull(db).sum()"
   ]
  },
  {
   "attachments": {},
   "cell_type": "markdown",
   "metadata": {},
   "source": [
    "# Talk to me..."
   ]
  },
  {
   "cell_type": "code",
   "execution_count": 17,
   "metadata": {},
   "outputs": [
    {
     "name": "stderr",
     "output_type": "stream",
     "text": [
      "C:\\Users\\Luis\\AppData\\Local\\Temp\\ipykernel_8620\\361865887.py:1: FutureWarning: The default value of numeric_only in DataFrame.corr is deprecated. In a future version, it will default to False. Select only valid columns or specify the value of numeric_only to silence this warning.\n",
      "  sns.heatmap(db.corr())\n"
     ]
    },
    {
     "data": {
      "image/png": "[encoded data removed]",
      "text/plain": [
       "<Figure size 640x480 with 2 Axes>"
      ]
     },
     "metadata": {},
     "output_type": "display_data"
    }
   ],
   "source": [
    "sns.heatmap(db.corr())\n",
    "plt.show()"
   ]
  },
  {
   "cell_type": "code",
   "execution_count": 16,
   "metadata": {},
   "outputs": [
    {
     "data": {
      "text/plain": [
       "Index(['ID', 'NIT', 'RAZON_SOCIAL', 'SUPERVISOR', 'REGION', 'DPTO_DOMICILIO',\n",
       "       'CIUDAD_DOMICILIO', 'CIIU', 'MACROSECTOR',\n",
       "       'INGRESOS_OPERACIONALES_2018', 'GANANCIA_2018', 'TOTAL_ACTIVOS_2018',\n",
       "       'TOTAL_PASIVOS_2018', 'TOTAL_PATRIMONIO_2018',\n",
       "       'INGRESOS_OPERACIONALES_2017', 'GANANCIA_2017', 'TOTAL_ACTIVOS_2017',\n",
       "       'TOTAL_PASIVOS_2017', 'TOTAL_PATRIMONIO_2017', 'NIIF', 'Unnamed: 20'],\n",
       "      dtype='object')"
      ]
     },
     "execution_count": 16,
     "metadata": {},
     "output_type": "execute_result"
    }
   ],
   "source": [
    "db.columns"
   ]
  },
  {
   "cell_type": "code",
   "execution_count": 19,
   "metadata": {},
   "outputs": [
    {
     "name": "stdout",
     "output_type": "stream",
     "text": [
      "ID                            -0.327316\n",
      "NIT                            0.029563\n",
      "GANANCIA_2018                  0.770727\n",
      "ACTIVOS_2018                   0.873583\n",
      "PASIVOS_2018                   0.905159\n",
      "PATRIMONIO_2018                0.782844\n",
      "INGRESOS_OPERACIONALES_2017    1.000000\n",
      "GANANCIA_2017                  0.673454\n",
      "ACTIVOS_2017                   0.873546\n",
      "PASIVOS_2017                   0.915817\n",
      "PATRIMONIO_2017                0.748905\n",
      "Name: INGRESOS_OPERACIONALES_2017, dtype: float64\n"
     ]
    },
    {
     "name": "stderr",
     "output_type": "stream",
     "text": [
      "C:\\Users\\Luis\\AppData\\Local\\Temp\\ipykernel_8620\\3358567898.py:2: FutureWarning: The default value of numeric_only in DataFrame.corr is deprecated. In a future version, it will default to False. Select only valid columns or specify the value of numeric_only to silence this warning.\n",
      "  print(db.corr()['INGRESOS_OPERACIONALES_2017']) #correlaciones entre variable determinada y todas las variables\n"
     ]
    }
   ],
   "source": [
    "#print(db.corr()) #correlaciones entre TODAS las variables\n",
    "print(db.corr()['INGRESOS_OPERACIONALES_2017']) #correlaciones entre variable determinada y todas las variables"
   ]
  },
  {
   "cell_type": "code",
   "execution_count": 18,
   "metadata": {},
   "outputs": [
    {
     "name": "stdout",
     "output_type": "stream",
     "text": [
      "PearsonRResult(statistic=0.9051594763361999, pvalue=0.0)\n"
     ]
    }
   ],
   "source": [
    "corr = pearsonr(db['INGRESOS_OPERACIONALES_2017'], db['TOTAL_PASIVOS_2018']) #ingresos/patrimonio_17\n",
    "print(corr)"
   ]
  }
 ],
 "metadata": {
  "kernelspec": {
   "display_name": "base",
   "language": "python",
   "name": "python3"
  },
  "language_info": {
   "codemirror_mode": {
    "name": "ipython",
    "version": 3
   },
   "file_extension": ".py",
   "mimetype": "text/x-python",
   "name": "python",
   "nbconvert_exporter": "python",
   "pygments_lexer": "ipython3",
   "version": "3.10.9"
  },
  "orig_nbformat": 4
 },
 "nbformat": 4,
 "nbformat_minor": 2
}
