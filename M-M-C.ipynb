{
 "cells": [
  {
   "cell_type": "code",
   "execution_count": 17,
   "metadata": {},
   "outputs": [
    {
     "name": "stdout",
     "output_type": "stream",
     "text": [
      "Modelo M|M|C -> poisson|exponencial|1\n",
      "\n",
      "---SIMULACIÓN: 1 Hora---\n",
      "\n",
      "1. PARÁMETROS:\n",
      "\n",
      "Entran al establecimiento 90.39 clientes por hora; 1.51 clientes por minuto; 0.03 clientes por segundo.\n",
      "Lambda = 90.39\n",
      "\n",
      "Son atendidos 218.85 clientes por hora; 3.65 clientes por minuto; 0.061 clientes por segundo.\n",
      "Mu = 218.85\n",
      "\n",
      "2. MÉTRICAS DE DESEMPEÑO:\n",
      "\n",
      "El factor de utilización del sistema es de: 41%.\n",
      "La probabilidad de que el cajero esté ocioso es de: 58%.\n",
      "(Lq) Número esperado de clientes en la cola: 0.29 por hora.\n",
      "(L = Ls) Número esperado de clientes en el sistema: 0.70 por hora.\n",
      "(Wq) Tiempo esperado por cliente en la cola: 0.0032 horas; 0.19 minutos; 11.57 segundos.\n",
      "(W = Ws) Tiempo esperado por cliente en el sistema: 0.0078 horas; 0.47 minutos; 28.02 segundos.\n"
     ]
    }
   ],
   "source": [
    "import numpy as np\n",
    "\n",
    "# PASO 1: Se definen los parámetros de la fila observada:\n",
    "\n",
    "# t = unidad de tiempo: dada en HORAS -> minutos/60 = HORAS\n",
    "# clientes = cantidad de clientes que llegaron un la unidad de tiempo\n",
    "# capacidad = tiempo medio de servicio por cliente\n",
    "# ran_poi = números aleatorios con dist. Poison\n",
    "# landa = tasa de llegada (lambda)\n",
    "# ran_exp = numeros aleatorios con dist. Exponencial\n",
    "# mu = tasa de servicio (mu)\n",
    "\n",
    "print(\"Modelo M|M|C -> poisson|exponencial|1\\n\")\n",
    "\n",
    "t = float(input('¿Cuántas horas duró la observación?: '))\n",
    "clientes = float(input('¿Cuántos clientes ingresaron al banco en {} horas?: '.format(t)))\n",
    "capacidad = float(input('¿Cuántas horas demora el servidor en atender a un cliente?: '))\n",
    "\n",
    "print('---SIMULACIÓN: 1 Hora---\\n')\n",
    "\n",
    "print('1. PARÁMETROS:\\n')\n",
    "\n",
    "ran_poi = list(np.random.poisson(int(clientes / t), int(clientes))) #dist. Poisson\n",
    "landa = (sum(ran_poi) / len(ran_poi)) # tiempos de llegadas\n",
    "print('Entran al establecimiento {:.2f} clientes por hora; {:.2f} clientes por minuto; {:.2f} clientes por segundo.'.format(landa, landa / 60, landa / 3600))\n",
    "#tasa media de llegada (tiempo esperado de llegada)\n",
    "print('Lambda = {:.2f}\\n'.format(landa))\n",
    "    \n",
    "ran_exp = list(np.random.exponential(capacidad, int(clientes))) #dist. Exponencial\n",
    "mu = 1 / (sum(ran_exp) / len(ran_exp)) # tiempos de servicio\n",
    "print('Son atendidos {:.2f} clientes por hora; {:.2f} clientes por minuto; {:.3f} clientes por segundo.'.format(mu, mu / 60, mu / 3600))\n",
    "#tasa media de servicio (tiempo esperado de servicio)\n",
    "print('Mu = {:.2f}'.format(mu))\n",
    "\n",
    "# PASO 2: Se calculan las medidas de desempeño para modelo M|M|C\n",
    "\n",
    "#ro = factor de utilización del sistema\n",
    "#ocio = factor de ocio del servidor\n",
    "#Lq = No. esperado de clientes en la cola\n",
    "#L = Ls = No. esperado de clientes en el sistema\n",
    "#Wq = Tiempo de espera en la cola\n",
    "#W = Ws = Tiempo de espera en el sistema\n",
    "\n",
    "print('\\n2. MÉTRICAS DE DESEMPEÑO:\\n')\n",
    "\n",
    "ro = landa / mu\n",
    "print('El factor de utilización del sistema es de: {}%.'.format(int(ro * 100)))\n",
    "ocio = (1 - ro) * 100\n",
    "print('La probabilidad de que el cajero esté ocioso es de: {}%.'.format(int(ocio)))\n",
    "Lq = (landa ** 2) / (mu * (mu - landa))\n",
    "print('(Lq) Número esperado de clientes en la cola: {:.2f} por hora.'.format(Lq))\n",
    "Ls = landa / (mu - landa) #(landa) / (landa - mu)\n",
    "print('(L = Ls) Número esperado de clientes en el sistema: {:.2f} por hora.'.format(Ls))\n",
    "Wq = Lq / (landa)\n",
    "print('(Wq) Tiempo esperado por cliente en la cola: {:.4f} horas; {:.2f} minutos; {:.2f} segundos.'.format(Wq, Wq * 60, Wq * 3600))\n",
    "Ws = 1 / (mu - landa)\n",
    "print('(W = Ws) Tiempo esperado por cliente en el sistema: {:.4f} horas; {:.2f} minutos; {:.2f} segundos.'.format(Ws, Ws * 60, Ws * 3600))"
   ]
  }
 ],
 "metadata": {
  "kernelspec": {
   "display_name": "Python 3",
   "language": "python",
   "name": "python3"
  },
  "language_info": {
   "codemirror_mode": {
    "name": "ipython",
    "version": 3
   },
   "file_extension": ".py",
   "mimetype": "text/x-python",
   "name": "python",
   "nbconvert_exporter": "python",
   "pygments_lexer": "ipython3",
   "version": "3.10.6"
  }
 },
 "nbformat": 4,
 "nbformat_minor": 2
}
